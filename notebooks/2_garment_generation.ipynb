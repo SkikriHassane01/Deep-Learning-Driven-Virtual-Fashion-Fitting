{
 "cells": [
  {
   "cell_type": "markdown",
   "id": "06ih84ylevmx",
   "metadata": {},
   "source": [
    "# 📝 Garment Generation with Stable Diffusion\n",
    "\n",
    "This notebook demonstrates how to generate fashion garments using Stable Diffusion, a state-of-the-art text-to-image generation model. We'll create a simple pipeline for generating various clothing items from text descriptions."
   ]
  },
  {
   "cell_type": "markdown",
   "id": "xhkofgwp6as",
   "metadata": {},
   "source": [
    "## 1. Imports and Dependencies\n",
    "\n",
    "Loading all necessary libraries for image generation, visualization, and deep learning operations."
   ]
  },
  {
   "cell_type": "code",
   "execution_count": null,
   "id": "3ac13f9b",
   "metadata": {},
   "outputs": [],
   "source": [
    "import torch\n",
    "import numpy as np\n",
    "from PIL import Image, ImageDraw\n",
    "import matplotlib.pyplot as plt\n",
    "from diffusers import StableDiffusionPipeline\n",
    "import warnings\n",
    "warnings.filterwarnings('ignore')"
   ]
  },
  {
   "cell_type": "markdown",
   "id": "fot3mhftquo",
   "metadata": {},
   "source": [
    "## 2. Simple Configuration Class\n",
    "\n",
    "Setting up device configuration and model parameters for consistent garment generation across different hardware setups."
   ]
  },
  {
   "cell_type": "code",
   "execution_count": null,
   "id": "ecd3jg1zxgp",
   "metadata": {},
   "outputs": [],
   "source": [
    "class SimpleConfig:\n",
    "    \"\"\"Simple configuration for garment generation\"\"\"\n",
    "    DEVICE = \"cuda\" if torch.cuda.is_available() else \"cpu\"\n",
    "    MODEL_NAME = \"runwayml/stable-diffusion-v1-5\"  # Free, reliable model\n",
    "    IMAGE_SIZE = 512\n",
    "    SEED = 42\n",
    "\n",
    "print(f\"🖥️ Using device: {SimpleConfig.DEVICE}\")"
   ]
  },
  {
   "cell_type": "markdown",
   "id": "ph19hvgrg",
   "metadata": {},
   "source": [
    "## 3. Simple Garment Generator Class\n",
    "\n",
    "Main class that handles the Stable Diffusion pipeline initialization and garment generation from text prompts."
   ]
  },
  {
   "cell_type": "code",
   "execution_count": null,
   "id": "5e5rktqn0v",
   "metadata": {},
   "outputs": [],
   "source": [
    "class SimpleGarmentGenerator:\n",
    "    \"\"\"Simple garment generator using Stable Diffusion\"\"\"\n",
    "    \n",
    "    def __init__(self):\n",
    "        print(\"🔄 Loading Stable Diffusion model...\")\n",
    "        \n",
    "        # Load the pre-trained model\n",
    "        self.pipe = StableDiffusionPipeline.from_pretrained(\n",
    "            SimpleConfig.MODEL_NAME,\n",
    "            torch_dtype=torch.float16 if SimpleConfig.DEVICE == \"cuda\" else torch.float32,\n",
    "            safety_checker=None,\n",
    "            requires_safety_checker=False\n",
    "        )\n",
    "        \n",
    "        # Move to device\n",
    "        self.pipe = self.pipe.to(SimpleConfig.DEVICE)\n",
    "        \n",
    "        # Enable memory efficient settings\n",
    "        if SimpleConfig.DEVICE == \"cuda\":\n",
    "            self.pipe.enable_attention_slicing()\n",
    "        \n",
    "        print(\"✅ Model loaded successfully!\")"
   ]
  },
  {
   "cell_type": "markdown",
   "id": "ondchc1qrs",
   "metadata": {},
   "source": [
    "## 4. Outfit Generation Method\n",
    "\n",
    "The core method that takes text prompts and generates fashion images using enhanced prompts and negative prompts for better results."
   ]
  },
  {
   "cell_type": "code",
   "execution_count": null,
   "id": "tc6pkfbspop",
   "metadata": {},
   "outputs": [],
   "source": [
    "def generate_outfit(self, prompt, seed=None):\n",
    "    \"\"\"Generate outfit from text prompt\"\"\"\n",
    "    \n",
    "    # Set seed for reproducible results\n",
    "    if seed is None:\n",
    "        seed = SimpleConfig.SEED\n",
    "    \n",
    "    generator = torch.Generator(device=SimpleConfig.DEVICE).manual_seed(seed)\n",
    "    \n",
    "    # Enhanced prompt for better fashion results\n",
    "    fashion_prompt = f\"high quality fashion photography, {prompt}, professional lighting, detailed fabric texture, fashion model, studio photography\"\n",
    "    \n",
    "    # Negative prompt to avoid bad results\n",
    "    negative_prompt = \"low quality, blurry, distorted, ugly, bad anatomy, extra limbs\"\n",
    "    \n",
    "    print(f\"🎨 Generating: {prompt}\")\n",
    "    \n",
    "    # Generate image\n",
    "    with torch.autocast(SimpleConfig.DEVICE):\n",
    "        result = self.pipe(\n",
    "            prompt=fashion_prompt,\n",
    "            negative_prompt=negative_prompt,\n",
    "            num_inference_steps=20,  # Fast generation\n",
    "            guidance_scale=7.5,\n",
    "            generator=generator,\n",
    "            height=SimpleConfig.IMAGE_SIZE,\n",
    "            width=SimpleConfig.IMAGE_SIZE\n",
    "        ).images[0]\n",
    "    \n",
    "    return result"
   ]
  },
  {
   "cell_type": "markdown",
   "id": "bnc13f9gr7r",
   "metadata": {},
   "source": [
    "## 5. Helper Functions\n",
    "\n",
    "Utility functions for displaying generated images and saving results to disk with proper naming conventions."
   ]
  },
  {
   "cell_type": "code",
   "execution_count": null,
   "id": "nl2eb47lnrl",
   "metadata": {},
   "outputs": [],
   "source": [
    "def display_results(prompt, generated_image):\n",
    "    \"\"\"Display the generated result\"\"\"\n",
    "    plt.figure(figsize=(8, 6))\n",
    "    plt.imshow(generated_image)\n",
    "    plt.title(f\"Generated Outfit: {prompt}\", fontsize=14, fontweight='bold')\n",
    "    plt.axis('off')\n",
    "    plt.tight_layout()\n",
    "    plt.show()\n",
    "\n",
    "def save_result(image, prompt, filename=None):\n",
    "    \"\"\"Save generated image\"\"\"\n",
    "    if filename is None:\n",
    "        # Create safe filename from prompt\n",
    "        safe_prompt = \"\".join(c for c in prompt if c.isalnum() or c in (' ', '-', '_')).rstrip()\n",
    "        filename = f\"outfit_{safe_prompt.replace(' ', '_')}.png\"\n",
    "    \n",
    "    image.save(filename)\n",
    "    print(f\"💾 Saved: {filename}\")"
   ]
  },
  {
   "cell_type": "markdown",
   "id": "nvsvjq3hiw",
   "metadata": {},
   "source": [
    "## 6. Main Testing Function\n",
    "\n",
    "Comprehensive test function that generates outfits from predefined prompts and handles the complete pipeline from generation to saving results."
   ]
  },
  {
   "cell_type": "code",
   "execution_count": null,
   "id": "kxtboqfv2s",
   "metadata": {},
   "outputs": [],
   "source": [
    "def test_garment_generation():\n",
    "    \"\"\"Simple test with two text prompts\"\"\"\n",
    "    \n",
    "    print(\"=\" * 60)\n",
    "    print(\"🎭 SIMPLE GARMENT GENERATION TEST\")\n",
    "    print(\"=\" * 60)\n",
    "    \n",
    "    # Initialize generator\n",
    "    generator = SimpleGarmentGenerator()\n",
    "    \n",
    "    # Test prompts\n",
    "    test_prompts = [\n",
    "        \"elegant red evening dress\",\n",
    "        \"casual blue jeans with white t-shirt\"\n",
    "    ]\n",
    "    \n",
    "    print(f\"\\n🧪 Testing with {len(test_prompts)} prompts:\")\n",
    "    \n",
    "    results = []\n",
    "    \n",
    "    # Generate outfits for each prompt\n",
    "    for i, prompt in enumerate(test_prompts, 1):\n",
    "        print(f\"\\n--- Test {i}/{len(test_prompts)} ---\")\n",
    "        \n",
    "        try:\n",
    "            # Generate image\n",
    "            generated_image = generator.generate_outfit(prompt)\n",
    "            \n",
    "            # Display result\n",
    "            display_results(prompt, generated_image)\n",
    "            \n",
    "            # Save result\n",
    "            save_result(generated_image, prompt)\n",
    "            \n",
    "            results.append({\n",
    "                'prompt': prompt,\n",
    "                'image': generated_image\n",
    "            })\n",
    "            \n",
    "            print(f\"✅ Successfully generated: {prompt}\")\n",
    "            \n",
    "        except Exception as e:\n",
    "            print(f\"❌ Error generating '{prompt}': {e}\")\n",
    "    \n",
    "    print(f\"\\n{'=' * 60}\")\n",
    "    print(\"🎉 TESTING COMPLETE!\")\n",
    "    print(f\"✅ Generated {len(results)}/{len(test_prompts)} outfits successfully\")\n",
    "    print(\"=\" * 60)\n",
    "    \n",
    "    return results"
   ]
  },
  {
   "cell_type": "markdown",
   "id": "5gnz0bzlveg",
   "metadata": {},
   "source": [
    "## 7. Interactive Custom Generation Function\n",
    "\n",
    "Function for generating custom outfits with user-provided prompts, including error handling and result management."
   ]
  },
  {
   "cell_type": "code",
   "execution_count": null,
   "id": "lx0qb18klfq",
   "metadata": {},
   "outputs": [],
   "source": [
    "def generate_custom_outfit(generator, custom_prompt):\n",
    "    \"\"\"Generate outfit with custom prompt\"\"\"\n",
    "    print(f\"\\n🎨 Generating custom outfit...\")\n",
    "    \n",
    "    try:\n",
    "        generated_image = generator.generate_outfit(custom_prompt)\n",
    "        display_results(custom_prompt, generated_image)\n",
    "        save_result(generated_image, custom_prompt)\n",
    "        print(f\"✅ Successfully generated: {custom_prompt}\")\n",
    "        return generated_image\n",
    "    except Exception as e:\n",
    "        print(f\"❌ Error: {e}\")\n",
    "        return None"
   ]
  },
  {
   "cell_type": "markdown",
   "id": "gvulgialezt",
   "metadata": {},
   "source": [
    "## 8. Main Execution Pipeline\n",
    "\n",
    "Running the complete garment generation pipeline with the predefined test cases to demonstrate the system's capabilities."
   ]
  },
  {
   "cell_type": "code",
   "execution_count": null,
   "id": "ikto6mb2ie",
   "metadata": {},
   "outputs": [],
   "source": [
    "print(\"🚀 Starting Simple Garment Generation Pipeline\")\n",
    "results = test_garment_generation()"
   ]
  }
 ],
 "metadata": {
  "language_info": {
   "name": "python"
  }
 },
 "nbformat": 4,
 "nbformat_minor": 5
}
